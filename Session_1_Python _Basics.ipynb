{
 "cells": [
  {
   "cell_type": "markdown",
   "id": "77d5d1bd-2057-42a5-826e-bec798364ed5",
   "metadata": {},
   "source": [
    "# Hello World"
   ]
  },
  {
   "cell_type": "markdown",
   "id": "c9d7d8ec-6c20-4ab9-9825-90ae7f37361a",
   "metadata": {},
   "source": [
    "## 1. Python Output"
   ]
  },
  {
   "cell_type": "code",
   "execution_count": 2,
   "id": "5458b834-f188-4868-8bea-07c01365da08",
   "metadata": {},
   "outputs": [
    {
     "name": "stdout",
     "output_type": "stream",
     "text": [
      "Hello World\n"
     ]
    }
   ],
   "source": [
    "# Python is a case sensitive language\n",
    "print('Hello World')"
   ]
  },
  {
   "cell_type": "code",
   "execution_count": 3,
   "id": "6c110685-09d7-49d7-bd23-45a9c8a834c0",
   "metadata": {},
   "outputs": [
    {
     "ename": "NameError",
     "evalue": "name 'Hello' is not defined",
     "output_type": "error",
     "traceback": [
      "\u001b[1;31m---------------------------------------------------------------------------\u001b[0m",
      "\u001b[1;31mNameError\u001b[0m                                 Traceback (most recent call last)",
      "Cell \u001b[1;32mIn[3], line 1\u001b[0m\n\u001b[1;32m----> 1\u001b[0m \u001b[38;5;28mprint\u001b[39m(Hello)\n",
      "\u001b[1;31mNameError\u001b[0m: name 'Hello' is not defined"
     ]
    }
   ],
   "source": [
    "print(Hello)"
   ]
  },
  {
   "cell_type": "code",
   "execution_count": 4,
   "id": "029ac977-8bc7-446e-810c-67d5b9c45693",
   "metadata": {},
   "outputs": [
    {
     "name": "stdout",
     "output_type": "stream",
     "text": [
      "7\n"
     ]
    }
   ],
   "source": [
    "print(7)"
   ]
  },
  {
   "cell_type": "code",
   "execution_count": 5,
   "id": "55b32b68-23b9-4168-a169-c49f8329792c",
   "metadata": {},
   "outputs": [
    {
     "name": "stdout",
     "output_type": "stream",
     "text": [
      "7.1\n"
     ]
    }
   ],
   "source": [
    "print(7.1)"
   ]
  },
  {
   "cell_type": "code",
   "execution_count": 6,
   "id": "93c85a55-efdf-4de4-ac18-053239108ad9",
   "metadata": {},
   "outputs": [
    {
     "name": "stdout",
     "output_type": "stream",
     "text": [
      "True\n"
     ]
    }
   ],
   "source": [
    "print(True)"
   ]
  },
  {
   "cell_type": "code",
   "execution_count": 7,
   "id": "b90d883c-d6ca-4d0a-acac-5c4dda468748",
   "metadata": {},
   "outputs": [
    {
     "name": "stdout",
     "output_type": "stream",
     "text": [
      "Hello 7 7.1 True\n"
     ]
    }
   ],
   "source": [
    "print('Hello', 7, 7.1, True)\n"
   ]
  },
  {
   "cell_type": "code",
   "execution_count": 8,
   "id": "f91259f8-2aa7-47da-894f-0fd729583b0b",
   "metadata": {},
   "outputs": [
    {
     "name": "stdout",
     "output_type": "stream",
     "text": [
      "Hello/7/7.1/True\n"
     ]
    }
   ],
   "source": [
    "print('Hello', 7, 7.1, True, sep='/')"
   ]
  },
  {
   "cell_type": "code",
   "execution_count": 9,
   "id": "bfb1a2ca-97d6-444f-bf1a-041c4961a642",
   "metadata": {},
   "outputs": [
    {
     "name": "stdout",
     "output_type": "stream",
     "text": [
      "helo\n",
      "world\n"
     ]
    }
   ],
   "source": [
    "print('helo')\n",
    "print('world')"
   ]
  },
  {
   "cell_type": "code",
   "execution_count": 10,
   "id": "a98dbdb9-3b18-43ff-b778-e368388d80b4",
   "metadata": {},
   "outputs": [
    {
     "name": "stdout",
     "output_type": "stream",
     "text": [
      "hello-world\n"
     ]
    }
   ],
   "source": [
    "print('hello', end='-')\n",
    "print('world')"
   ]
  },
  {
   "cell_type": "markdown",
   "id": "fc3b0757-40a1-4a31-a68a-3cfc8becdc4b",
   "metadata": {},
   "source": [
    "## 2. Data Types"
   ]
  },
  {
   "cell_type": "code",
   "execution_count": 1,
   "id": "ce21f0f0-d7cf-4fdb-8751-9a0c36a67314",
   "metadata": {},
   "outputs": [
    {
     "name": "stdout",
     "output_type": "stream",
     "text": [
      "8\n",
      "inf\n",
      "1e+308\n"
     ]
    }
   ],
   "source": [
    "#Integer\n",
    "print(8)\n",
    "print(1e309)\n",
    "print(1e308)"
   ]
  },
  {
   "cell_type": "code",
   "execution_count": 2,
   "id": "b5e3821f-3692-49d2-b6c6-98ebaefdb27e",
   "metadata": {},
   "outputs": [
    {
     "name": "stdout",
     "output_type": "stream",
     "text": [
      "8.55\n",
      "inf\n"
     ]
    }
   ],
   "source": [
    "#Decimal\n",
    "print(8.55)\n",
    "print(1.7e309)"
   ]
  },
  {
   "cell_type": "code",
   "execution_count": 4,
   "id": "14f21f68-8274-4450-bf2b-2d32c99fb3c7",
   "metadata": {},
   "outputs": [
    {
     "name": "stdout",
     "output_type": "stream",
     "text": [
      "True\n",
      "False\n"
     ]
    }
   ],
   "source": [
    "#Boolean\n",
    "print(True)\n",
    "print(False)"
   ]
  },
  {
   "cell_type": "code",
   "execution_count": 5,
   "id": "e2c1b243-d0de-41d1-8ba8-42109888a4a6",
   "metadata": {},
   "outputs": [
    {
     "name": "stdout",
     "output_type": "stream",
     "text": [
      "Hello World\n"
     ]
    }
   ],
   "source": [
    "#Text/String\n",
    "print('Hello World')"
   ]
  },
  {
   "cell_type": "code",
   "execution_count": 6,
   "id": "3566b08b-4a86-45f9-b020-2d992aa1e7c5",
   "metadata": {},
   "outputs": [
    {
     "name": "stdout",
     "output_type": "stream",
     "text": [
      "(5+6j)\n"
     ]
    }
   ],
   "source": [
    "#Complex Number\n",
    "print(5+6j)\n"
   ]
  },
  {
   "cell_type": "code",
   "execution_count": 7,
   "id": "4cf4e4bf-73a7-4d57-bce5-ae66701f1571",
   "metadata": {},
   "outputs": [
    {
     "name": "stdout",
     "output_type": "stream",
     "text": [
      "[1, 2, 3, 4]\n"
     ]
    }
   ],
   "source": [
    "#List -> C -> Array\n",
    "print([1,2,3,4])"
   ]
  },
  {
   "cell_type": "code",
   "execution_count": 8,
   "id": "3b08e1c9-dbfa-4948-aca8-668e2b7ade5e",
   "metadata": {},
   "outputs": [
    {
     "name": "stdout",
     "output_type": "stream",
     "text": [
      "(1, 2, 3, 4)\n"
     ]
    }
   ],
   "source": [
    "#Tuple \n",
    "print((1,2,3,4))"
   ]
  },
  {
   "cell_type": "code",
   "execution_count": 9,
   "id": "88a256c5-d110-47d3-9717-3c4686dc30bc",
   "metadata": {},
   "outputs": [
    {
     "name": "stdout",
     "output_type": "stream",
     "text": [
      "{1, 2, 3, 4}\n"
     ]
    }
   ],
   "source": [
    "#set\n",
    "print({1,2,3,4})"
   ]
  },
  {
   "cell_type": "code",
   "execution_count": 11,
   "id": "b136b40a-8312-45dc-a751-10a356f729b0",
   "metadata": {},
   "outputs": [
    {
     "name": "stdout",
     "output_type": "stream",
     "text": [
      "{'Name': 'Ashis', 'Gender': 'Male', 'Weight': '70'}\n"
     ]
    }
   ],
   "source": [
    "#Dictionary\n",
    "print({'Name':'Ashis', 'Gender':'Male', 'Weight':'70'})"
   ]
  },
  {
   "cell_type": "code",
   "execution_count": 12,
   "id": "e4c92b0b-9080-4c97-8f08-9a3b1431b41d",
   "metadata": {},
   "outputs": [
    {
     "data": {
      "text/plain": [
       "list"
      ]
     },
     "execution_count": 12,
     "metadata": {},
     "output_type": "execute_result"
    }
   ],
   "source": [
    "#Type\n",
    "type([1,2,3])"
   ]
  },
  {
   "cell_type": "markdown",
   "id": "20921c17-d697-46ed-9ac1-261488b3ac7d",
   "metadata": {},
   "source": [
    "## 3. Variables"
   ]
  },
  {
   "cell_type": "code",
   "execution_count": null,
   "id": "864a31e6-031a-4b39-806b-146cbbc816ec",
   "metadata": {},
   "outputs": [],
   "source": [
    "# Static Vs Dynamic Typing\n",
    "# Static Vs Dynamic Binding\n",
    "# Stylish Declaration Techniques"
   ]
  },
  {
   "cell_type": "code",
   "execution_count": 24,
   "id": "25fe3f86-caeb-4b96-a8fe-e8b069c4f36c",
   "metadata": {},
   "outputs": [
    {
     "name": "stdout",
     "output_type": "stream",
     "text": [
      "Ashis\n"
     ]
    }
   ],
   "source": [
    "# C/C++ \n",
    "#int name = Ashis (Static Typing - We specify the data type of the variable)\n",
    "# Python \n",
    "name= 'Ashis'\n",
    "print(name)"
   ]
  },
  {
   "cell_type": "code",
   "execution_count": 15,
   "id": "ddab010f-36df-4efe-b85b-c1c089a61a86",
   "metadata": {},
   "outputs": [
    {
     "name": "stdout",
     "output_type": "stream",
     "text": [
      "11\n"
     ]
    }
   ],
   "source": [
    "a= 5\n",
    "b= 6\n",
    "print(a+b)"
   ]
  },
  {
   "cell_type": "code",
   "execution_count": 18,
   "id": "674d5888-4401-4cee-b4de-5130a61a0763",
   "metadata": {},
   "outputs": [],
   "source": [
    "# Dynamic Typing (we don't tell the data type of the variable)\n",
    "a = 5 "
   ]
  },
  {
   "cell_type": "code",
   "execution_count": 19,
   "id": "2bd9ad8b-a61d-419f-b319-110254ec09dc",
   "metadata": {},
   "outputs": [
    {
     "name": "stdout",
     "output_type": "stream",
     "text": [
      "5\n",
      "Ashis\n"
     ]
    }
   ],
   "source": [
    "# Dynamic Binding (The datatype of a variable can be changed anywhere in the program)\n",
    "a = 5 \n",
    "print(a)\n",
    "a = 'Ashis'\n",
    "print(a)\n",
    "# Static Binding (The datatype variable can be same throughout the program once it get declared)\n",
    "# int a = 5"
   ]
  },
  {
   "cell_type": "code",
   "execution_count": 20,
   "id": "4e527973-c00c-4b50-ab8d-670b63ecee0a",
   "metadata": {},
   "outputs": [
    {
     "name": "stdout",
     "output_type": "stream",
     "text": [
      "1 2 3\n"
     ]
    }
   ],
   "source": [
    "a=1 \n",
    "b=2\n",
    "c=3\n",
    "print(a,b,c)"
   ]
  },
  {
   "cell_type": "code",
   "execution_count": 21,
   "id": "9acdece4-d41d-4e36-8967-d942b7ad2ee4",
   "metadata": {},
   "outputs": [
    {
     "name": "stdout",
     "output_type": "stream",
     "text": [
      "1 2 3\n"
     ]
    }
   ],
   "source": [
    "a,b,c=1,2,3\n",
    "print(a,b,c)"
   ]
  },
  {
   "cell_type": "code",
   "execution_count": 22,
   "id": "ab319176-b753-42d7-aea8-fd6152303123",
   "metadata": {},
   "outputs": [
    {
     "name": "stdout",
     "output_type": "stream",
     "text": [
      "5 5 5\n"
     ]
    }
   ],
   "source": [
    "a=b=c=5\n",
    "print(a,b,c)"
   ]
  },
  {
   "cell_type": "markdown",
   "id": "74741e7c-b614-47aa-b106-db8a5aa2a472",
   "metadata": {},
   "source": [
    "## Comments"
   ]
  },
  {
   "cell_type": "code",
   "execution_count": 23,
   "id": "51485aed-e3d4-4a53-8bd4-53938468c701",
   "metadata": {},
   "outputs": [],
   "source": [
    "# This is a Comment\n",
    "# Second line"
   ]
  },
  {
   "cell_type": "markdown",
   "id": "b5be70ac-9ba7-43ad-ad31-ce353e9a412a",
   "metadata": {},
   "source": [
    "## 4. Keywords $ Identifiers"
   ]
  },
  {
   "cell_type": "code",
   "execution_count": null,
   "id": "5ef04c84-36e5-496a-9ade-686a00595147",
   "metadata": {},
   "outputs": [],
   "source": [
    "# Keywords\n",
    "# list of all 33 keywords\n",
    "# 1. False\n",
    "# 2. None\n",
    "# 3. True\n",
    "# 4. and\n",
    "# 5. as\n",
    "# 6. assert\n",
    "# 7. break\n",
    "# 8. class\n",
    "# 9. continue\n",
    "# 10. def\n",
    "# 11. del\n",
    "# 12. elif\n",
    "# 13. else\n",
    "# 14. except\n",
    "# 15. finally\n",
    "# 16. for\n",
    "# 17. from\n",
    "# 18. global\n",
    "# 19. if\n",
    "# 20. import\n",
    "# 21. in\n",
    "# 22. is\n",
    "# 23. lambda\n",
    "# 24. nonlocal\n",
    "# 25. not\n",
    "# 26. or\n",
    "# 27. pass\n",
    "# 28. raise\n",
    "# 29. return\n",
    "# 30. try\n",
    "# 31. while\n",
    "# 32. with\n",
    "# 33. yield"
   ]
  },
  {
   "cell_type": "code",
   "execution_count": null,
   "id": "36c05cc7-af1d-4483-9b91-bedb8aeac0ed",
   "metadata": {},
   "outputs": [],
   "source": [
    "# Identifiers\n",
    "# you can't start with digit\n",
    "# you can use uper case, lower case, digit, and only underscore \"_\" in special character\n",
    "# identifiers can not be keywords"
   ]
  },
  {
   "cell_type": "markdown",
   "id": "262d6c17-9d27-4b4d-8a62-81d7268e9f18",
   "metadata": {},
   "source": [
    "## 5. User Input"
   ]
  },
  {
   "cell_type": "code",
   "execution_count": 4,
   "id": "c72416b8-8e49-4218-8b6c-818e84cd959e",
   "metadata": {},
   "outputs": [
    {
     "name": "stdin",
     "output_type": "stream",
     "text": [
      "tell your Name Ashis\n"
     ]
    },
    {
     "data": {
      "text/plain": [
       "'Ashis'"
      ]
     },
     "execution_count": 4,
     "metadata": {},
     "output_type": "execute_result"
    }
   ],
   "source": [
    "# Static Vs Dynamic\n",
    "input('tell your Name')"
   ]
  },
  {
   "cell_type": "code",
   "execution_count": 13,
   "id": "ffea78b3-a1ca-4e06-a3d8-db65e8230f2c",
   "metadata": {},
   "outputs": [
    {
     "name": "stdin",
     "output_type": "stream",
     "text": [
      "Enter first number 12\n",
      "Enter second number 56\n"
     ]
    },
    {
     "name": "stdout",
     "output_type": "stream",
     "text": [
      "<class 'int'> <class 'int'>\n",
      "68\n",
      "<class 'int'>\n"
     ]
    }
   ],
   "source": [
    "# Take input from users and store them in a variable\n",
    "fnum = int(input('Enter first number'))\n",
    "snum = int(input('Enter second number'))\n",
    "print(type(fnum),type(snum))\n",
    "#string is a universal data type\n",
    "# add the 2 variables\n",
    "result = fnum+ snum\n",
    "# print the result\n",
    "print(result)\n",
    "print(type(fnum))"
   ]
  },
  {
   "cell_type": "markdown",
   "id": "b6f89e65-40b0-4777-9583-3d10675af52e",
   "metadata": {},
   "source": [
    "## 6. Type Conversion"
   ]
  },
  {
   "cell_type": "code",
   "execution_count": 7,
   "id": "0fa773a3-5701-4603-902c-84d6ab6ee1b2",
   "metadata": {},
   "outputs": [
    {
     "name": "stdout",
     "output_type": "stream",
     "text": [
      "10.6\n",
      "<class 'int'> <class 'float'>\n"
     ]
    },
    {
     "ename": "TypeError",
     "evalue": "unsupported operand type(s) for +: 'int' and 'str'",
     "output_type": "error",
     "traceback": [
      "\u001b[1;31m---------------------------------------------------------------------------\u001b[0m",
      "\u001b[1;31mTypeError\u001b[0m                                 Traceback (most recent call last)",
      "Cell \u001b[1;32mIn[7], line 5\u001b[0m\n\u001b[0;32m      2\u001b[0m \u001b[38;5;28mprint\u001b[39m(\u001b[38;5;241m5\u001b[39m\u001b[38;5;241m+\u001b[39m\u001b[38;5;241m5.6\u001b[39m)\n\u001b[0;32m      3\u001b[0m \u001b[38;5;28mprint\u001b[39m(\u001b[38;5;28mtype\u001b[39m(\u001b[38;5;241m5\u001b[39m),\u001b[38;5;28mtype\u001b[39m(\u001b[38;5;241m5.6\u001b[39m)) \u001b[38;5;66;03m# this is implicit as python taken different data type and completed the operation\u001b[39;00m\n\u001b[1;32m----> 5\u001b[0m \u001b[38;5;28mprint\u001b[39m(\u001b[38;5;241m4\u001b[39m \u001b[38;5;241m+\u001b[39m \u001b[38;5;124m'\u001b[39m\u001b[38;5;124m4\u001b[39m\u001b[38;5;124m'\u001b[39m)\n",
      "\u001b[1;31mTypeError\u001b[0m: unsupported operand type(s) for +: 'int' and 'str'"
     ]
    }
   ],
   "source": [
    "# Implicit Vs Explicit \n",
    "# type conversion does not changes the data type permanently \n",
    "print(5+5.6)\n",
    "print(type(5),type(5.6)) # This is implicit type conversion as Python taken different data type and completed the operation\n",
    "\n",
    "print(4 + '4')"
   ]
  },
  {
   "cell_type": "code",
   "execution_count": 10,
   "id": "23ff5cca-8de6-475d-85ef-ddce77907994",
   "metadata": {},
   "outputs": [
    {
     "data": {
      "text/plain": [
       "4.0"
      ]
     },
     "execution_count": 10,
     "metadata": {},
     "output_type": "execute_result"
    }
   ],
   "source": [
    "# Explicit Type Conversion\n",
    "# str -> int\n",
    "int(4)\n",
    "\n",
    "# int -> str\n",
    "str(5)\n",
    "\n",
    "#float\n",
    "float(4)"
   ]
  },
  {
   "cell_type": "markdown",
   "id": "e0501093-d8ed-4796-b617-a0c7a8109ff8",
   "metadata": {},
   "source": [
    "## 7. Literals"
   ]
  },
  {
   "cell_type": "code",
   "execution_count": 17,
   "id": "6ae528ed-bd35-4cbd-bcc6-7dbda775b0fb",
   "metadata": {},
   "outputs": [
    {
     "name": "stdout",
     "output_type": "stream",
     "text": [
      "10 100 200 300\n",
      "10.5 150.0 0.0015\n",
      "3.14j 3.14 0.0\n"
     ]
    }
   ],
   "source": [
    "a = 0b1010 #Binary Literals\n",
    "b = 100 #Decimal Literal\n",
    "c = 0o310 #Octal Literal\n",
    "d = 0x12c #Hexadecimal Literal\n",
    "\n",
    "#Float Literal\n",
    "float_1 = 10.5\n",
    "float_2 = 1.5e2\n",
    "float_3 = 1.5e-3\n",
    "\n",
    "#Complex Literal\n",
    "x = 3.14j\n",
    "\n",
    "print(a, b, c, d)\n",
    "print(float_1, float_2, float_3)\n",
    "print(x, x.imag, x.real)"
   ]
  },
  {
   "cell_type": "code",
   "execution_count": 18,
   "id": "b7952d01-1d8f-44e8-8e26-9abb2c8d9aa5",
   "metadata": {},
   "outputs": [
    {
     "name": "stdout",
     "output_type": "stream",
     "text": [
      "This is Python\n",
      "This is Python\n",
      "C\n",
      "This is a multiline string with more than one line code. \n",
      "😀😆🤣\n",
      "raw \\n string\n"
     ]
    }
   ],
   "source": [
    "string = 'This is Python'\n",
    "strings = \"This is Python\"\n",
    "char = \"C\"\n",
    "multiline_str = \"\"\"This is a multiline string with more than one line code. \"\"\"\n",
    "unicode = u\"\\U0001f600\\U0001F606\\U0001F923\"\n",
    "raw_str = r\"raw \\n string\"\n",
    "\n",
    "print(string)\n",
    "print(strings)\n",
    "print(char)\n",
    "print(multiline_str)\n",
    "print(unicode)\n",
    "print(raw_str)"
   ]
  },
  {
   "cell_type": "code",
   "execution_count": 19,
   "id": "0a6e19a2-f92d-4275-9d60-e7717e3de57d",
   "metadata": {},
   "outputs": [
    {
     "name": "stdout",
     "output_type": "stream",
     "text": [
      "a: 5\n",
      "b: 10\n"
     ]
    }
   ],
   "source": [
    "a = True + 4\n",
    "b = False + 10\n",
    "\n",
    "print(\"a:\",a)\n",
    "print(\"b:\",b)"
   ]
  },
  {
   "cell_type": "code",
   "execution_count": 20,
   "id": "7f0cf14d-1816-420b-b620-4fdaa0c170e4",
   "metadata": {},
   "outputs": [
    {
     "name": "stdout",
     "output_type": "stream",
     "text": [
      "None\n"
     ]
    }
   ],
   "source": [
    "a= None\n",
    "print(a)"
   ]
  }
 ],
 "metadata": {
  "kernelspec": {
   "display_name": "Python 3 (ipykernel)",
   "language": "python",
   "name": "python3"
  },
  "language_info": {
   "codemirror_mode": {
    "name": "ipython",
    "version": 3
   },
   "file_extension": ".py",
   "mimetype": "text/x-python",
   "name": "python",
   "nbconvert_exporter": "python",
   "pygments_lexer": "ipython3",
   "version": "3.11.7"
  }
 },
 "nbformat": 4,
 "nbformat_minor": 5
}
